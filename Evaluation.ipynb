{
 "cells": [
  {
   "cell_type": "code",
   "execution_count": 5,
   "id": "b59b7776",
   "metadata": {},
   "outputs": [],
   "source": [
    "import os\n",
    "import subprocess\n",
    "import json"
   ]
  },
  {
   "cell_type": "code",
   "execution_count": 6,
   "id": "30901ca7",
   "metadata": {},
   "outputs": [],
   "source": [
    "Dataset_directory = 'data'\n",
    "directory = 'Directory'"
   ]
  },
  {
   "cell_type": "code",
   "execution_count": 7,
   "id": "9306a57d",
   "metadata": {},
   "outputs": [],
   "source": [
    "def run_bandit(code):\n",
    "    \n",
    "    file_name = 'temp.py'\n",
    "\n",
    "    with open(file_name, 'w+') as file:\n",
    "        file.write(code)\n",
    "    result = subprocess.run([\"bandit\", \"-r\", \"-f\", \"json\", file_name], capture_output=True, text=True)\n",
    "    output_json = json.loads(result.stdout)\n",
    "    Feedback = []\n",
    "    for issue in output_json['results']:\n",
    "        Feedback.append([issue['issue_text'],issue['code']])\n",
    "\n",
    "    return len(Feedback)"
   ]
  },
  {
   "cell_type": "code",
   "execution_count": 9,
   "id": "1ff7a43d",
   "metadata": {},
   "outputs": [
    {
     "name": "stdout",
     "output_type": "stream",
     "text": [
      "Total number of functions with security issues:  170\n"
     ]
    }
   ],
   "source": [
    "count = 0\n",
    "\n",
    "for item in os.listdir(directory):\n",
    "    item_path = os.path.join(directory, item)\n",
    "    \n",
    "    if item_path ==  directory  + '/.DS_Store':\n",
    "        continue\n",
    "        \n",
    "    files = [f for f in os.listdir(item_path) if os.path.isfile(os.path.join(item_path, f))]\n",
    "    last_part = os.path.basename(item_path)\n",
    "\n",
    "    if not os.path.exists(os.path.join(item_path, 'Self_Debug.py')):\n",
    "        continue\n",
    "    file_path = os.path.join(item_path, 'Self_Debug.py')\n",
    "    \n",
    "    with open(file_path, 'r') as f:\n",
    "        code = f.read()\n",
    "\n",
    "\n",
    "    Bandit_results = run_bandit(code)\n",
    "    if Bandit_results >= 1:\n",
    "        count += 1\n",
    "        \n",
    "print('Total number of functions with security issues: ', count)\n"
   ]
  }
 ],
 "metadata": {
  "kernelspec": {
   "display_name": "Python 3 (ipykernel)",
   "language": "python",
   "name": "python3"
  },
  "language_info": {
   "codemirror_mode": {
    "name": "ipython",
    "version": 3
   },
   "file_extension": ".py",
   "mimetype": "text/x-python",
   "name": "python",
   "nbconvert_exporter": "python",
   "pygments_lexer": "ipython3",
   "version": "3.9.12"
  }
 },
 "nbformat": 4,
 "nbformat_minor": 5
}
